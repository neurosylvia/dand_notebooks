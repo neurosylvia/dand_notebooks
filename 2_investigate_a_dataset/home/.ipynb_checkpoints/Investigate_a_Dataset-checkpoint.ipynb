{
 "cells": [
  {
   "cell_type": "markdown",
   "metadata": {},
   "source": [
    "# Understanding factors contributing to missing medical appointments: \n",
    "## An experience from Brazil\n",
    "\n",
    "### Table of Contents\n",
    "<ul>\n",
    "<li><a href=\"#intro\">Introduction</a></li>\n",
    "<li><a href=\"#wrangling\">Data Wrangling</a></li>\n",
    "<li><a href=\"#eda\">Exploratory Data Analysis</a></li>\n",
    "<li><a href=\"#conclusions\">Conclusions</a></li>\n",
    "</ul>"
   ]
  },
  {
   "cell_type": "markdown",
   "metadata": {},
   "source": [
    "<a id='intro'></a>\n",
    "## Introduction\n",
    "\n",
    "In this section of the report, provide a brief introduction to the medical appointment no-show dataset. This dataset collects information over the span of two months over about 100,000 medical appointments and contains data regarding demographics, some of the medical conditions that patients are affected with, as well as geosocial data, such as where the clinic or hospital is located, and whether patients get financial incentives as part of a Brazilian social aid program called 'Bolsa Familia'. There is also information regarding the date of the appointment and when the patient called to make the appointment. \n",
    "\n",
    "We will analyze how the rate of no-shows (i.e. missing appointments) is impacted by demographic and medical (age, sex, medical conditions), or geosocial characteristics (i.e. having financial aid, living or traveling to a particular neighborhood). We will also investigate how the rate of no-shows change by day of the week. This data could help clinics and hospitals better schedule their activities, by suiting them to a particular population (e.g. pediatrics, women, elderly) and by maximizing resources when patients are more likely to show up. They could also provide more help to those who may have barriers to attending their appointments. \n",
    "\n",
    "Let's get started!"
   ]
  },
  {
   "cell_type": "code",
   "execution_count": 109,
   "metadata": {},
   "outputs": [],
   "source": [
    "#Importing necessary packages\n",
    "import pandas as pd\n",
    "import numpy as np\n",
    "import matplotlib.pyplot as plt\n",
    "import seaborn as sns\n",
    "\n",
    "% matplotlib inline\n",
    "sns.set(palette= 'Set2')"
   ]
  },
  {
   "cell_type": "markdown",
   "metadata": {},
   "source": [
    "<a id='wrangling'></a>\n",
    "## Data Wrangling\n",
    "\n",
    "### General Properties"
   ]
  },
  {
   "cell_type": "markdown",
   "metadata": {},
   "source": [
    "In this section we explore the data and get to know it better. There are 110527 appointments and 14 features. \n",
    "From a brief look, we can see that there are no missing data and no duplicate entries. However the names of the columns appear to be a bit off, and we can improve on them in the next section to enhance clarity. \n",
    "\n",
    "In the following cells, we have printed off some pandas functions to survey the data a bit more closely. "
   ]
  },
  {
   "cell_type": "code",
   "execution_count": 70,
   "metadata": {},
   "outputs": [
    {
     "data": {
      "text/html": [
       "<div>\n",
       "<style scoped>\n",
       "    .dataframe tbody tr th:only-of-type {\n",
       "        vertical-align: middle;\n",
       "    }\n",
       "\n",
       "    .dataframe tbody tr th {\n",
       "        vertical-align: top;\n",
       "    }\n",
       "\n",
       "    .dataframe thead th {\n",
       "        text-align: right;\n",
       "    }\n",
       "</style>\n",
       "<table border=\"1\" class=\"dataframe\">\n",
       "  <thead>\n",
       "    <tr style=\"text-align: right;\">\n",
       "      <th></th>\n",
       "      <th>PatientId</th>\n",
       "      <th>AppointmentID</th>\n",
       "      <th>Gender</th>\n",
       "      <th>ScheduledDay</th>\n",
       "      <th>AppointmentDay</th>\n",
       "      <th>Age</th>\n",
       "      <th>Neighbourhood</th>\n",
       "      <th>Scholarship</th>\n",
       "      <th>Hipertension</th>\n",
       "      <th>Diabetes</th>\n",
       "      <th>Alcoholism</th>\n",
       "      <th>Handcap</th>\n",
       "      <th>SMS_received</th>\n",
       "      <th>No-show</th>\n",
       "    </tr>\n",
       "  </thead>\n",
       "  <tbody>\n",
       "    <tr>\n",
       "      <th>0</th>\n",
       "      <td>2.987250e+13</td>\n",
       "      <td>5642903</td>\n",
       "      <td>F</td>\n",
       "      <td>2016-04-29T18:38:08Z</td>\n",
       "      <td>2016-04-29T00:00:00Z</td>\n",
       "      <td>62</td>\n",
       "      <td>JARDIM DA PENHA</td>\n",
       "      <td>0</td>\n",
       "      <td>1</td>\n",
       "      <td>0</td>\n",
       "      <td>0</td>\n",
       "      <td>0</td>\n",
       "      <td>0</td>\n",
       "      <td>No</td>\n",
       "    </tr>\n",
       "    <tr>\n",
       "      <th>1</th>\n",
       "      <td>5.589978e+14</td>\n",
       "      <td>5642503</td>\n",
       "      <td>M</td>\n",
       "      <td>2016-04-29T16:08:27Z</td>\n",
       "      <td>2016-04-29T00:00:00Z</td>\n",
       "      <td>56</td>\n",
       "      <td>JARDIM DA PENHA</td>\n",
       "      <td>0</td>\n",
       "      <td>0</td>\n",
       "      <td>0</td>\n",
       "      <td>0</td>\n",
       "      <td>0</td>\n",
       "      <td>0</td>\n",
       "      <td>No</td>\n",
       "    </tr>\n",
       "    <tr>\n",
       "      <th>2</th>\n",
       "      <td>4.262962e+12</td>\n",
       "      <td>5642549</td>\n",
       "      <td>F</td>\n",
       "      <td>2016-04-29T16:19:04Z</td>\n",
       "      <td>2016-04-29T00:00:00Z</td>\n",
       "      <td>62</td>\n",
       "      <td>MATA DA PRAIA</td>\n",
       "      <td>0</td>\n",
       "      <td>0</td>\n",
       "      <td>0</td>\n",
       "      <td>0</td>\n",
       "      <td>0</td>\n",
       "      <td>0</td>\n",
       "      <td>No</td>\n",
       "    </tr>\n",
       "    <tr>\n",
       "      <th>3</th>\n",
       "      <td>8.679512e+11</td>\n",
       "      <td>5642828</td>\n",
       "      <td>F</td>\n",
       "      <td>2016-04-29T17:29:31Z</td>\n",
       "      <td>2016-04-29T00:00:00Z</td>\n",
       "      <td>8</td>\n",
       "      <td>PONTAL DE CAMBURI</td>\n",
       "      <td>0</td>\n",
       "      <td>0</td>\n",
       "      <td>0</td>\n",
       "      <td>0</td>\n",
       "      <td>0</td>\n",
       "      <td>0</td>\n",
       "      <td>No</td>\n",
       "    </tr>\n",
       "    <tr>\n",
       "      <th>4</th>\n",
       "      <td>8.841186e+12</td>\n",
       "      <td>5642494</td>\n",
       "      <td>F</td>\n",
       "      <td>2016-04-29T16:07:23Z</td>\n",
       "      <td>2016-04-29T00:00:00Z</td>\n",
       "      <td>56</td>\n",
       "      <td>JARDIM DA PENHA</td>\n",
       "      <td>0</td>\n",
       "      <td>1</td>\n",
       "      <td>1</td>\n",
       "      <td>0</td>\n",
       "      <td>0</td>\n",
       "      <td>0</td>\n",
       "      <td>No</td>\n",
       "    </tr>\n",
       "  </tbody>\n",
       "</table>\n",
       "</div>"
      ],
      "text/plain": [
       "      PatientId  AppointmentID Gender          ScheduledDay  \\\n",
       "0  2.987250e+13        5642903      F  2016-04-29T18:38:08Z   \n",
       "1  5.589978e+14        5642503      M  2016-04-29T16:08:27Z   \n",
       "2  4.262962e+12        5642549      F  2016-04-29T16:19:04Z   \n",
       "3  8.679512e+11        5642828      F  2016-04-29T17:29:31Z   \n",
       "4  8.841186e+12        5642494      F  2016-04-29T16:07:23Z   \n",
       "\n",
       "         AppointmentDay  Age      Neighbourhood  Scholarship  Hipertension  \\\n",
       "0  2016-04-29T00:00:00Z   62    JARDIM DA PENHA            0             1   \n",
       "1  2016-04-29T00:00:00Z   56    JARDIM DA PENHA            0             0   \n",
       "2  2016-04-29T00:00:00Z   62      MATA DA PRAIA            0             0   \n",
       "3  2016-04-29T00:00:00Z    8  PONTAL DE CAMBURI            0             0   \n",
       "4  2016-04-29T00:00:00Z   56    JARDIM DA PENHA            0             1   \n",
       "\n",
       "   Diabetes  Alcoholism  Handcap  SMS_received No-show  \n",
       "0         0           0        0             0      No  \n",
       "1         0           0        0             0      No  \n",
       "2         0           0        0             0      No  \n",
       "3         0           0        0             0      No  \n",
       "4         1           0        0             0      No  "
      ]
     },
     "execution_count": 70,
     "metadata": {},
     "output_type": "execute_result"
    }
   ],
   "source": [
    "# Loading data and print the first 5 rows:\n",
    "df = pd.read_csv('noshowappointments-kagglev2-may-2016.csv')\n",
    "df.head()"
   ]
  },
  {
   "cell_type": "code",
   "execution_count": 71,
   "metadata": {},
   "outputs": [
    {
     "name": "stdout",
     "output_type": "stream",
     "text": [
      "<class 'pandas.core.frame.DataFrame'>\n",
      "RangeIndex: 110527 entries, 0 to 110526\n",
      "Data columns (total 14 columns):\n",
      "PatientId         110527 non-null float64\n",
      "AppointmentID     110527 non-null int64\n",
      "Gender            110527 non-null object\n",
      "ScheduledDay      110527 non-null object\n",
      "AppointmentDay    110527 non-null object\n",
      "Age               110527 non-null int64\n",
      "Neighbourhood     110527 non-null object\n",
      "Scholarship       110527 non-null int64\n",
      "Hipertension      110527 non-null int64\n",
      "Diabetes          110527 non-null int64\n",
      "Alcoholism        110527 non-null int64\n",
      "Handcap           110527 non-null int64\n",
      "SMS_received      110527 non-null int64\n",
      "No-show           110527 non-null object\n",
      "dtypes: float64(1), int64(8), object(5)\n",
      "memory usage: 11.8+ MB\n"
     ]
    }
   ],
   "source": [
    "#From here we see that there are no missing values. Patient ID has been encoded as a float\n",
    "df.info()"
   ]
  },
  {
   "cell_type": "markdown",
   "metadata": {},
   "source": [
    "### Data Cleaning: making columns clearer and exploring duplicate entries"
   ]
  },
  {
   "cell_type": "markdown",
   "metadata": {},
   "source": [
    "We notice some typos in the column names, which we can fix to make things easier to modify. "
   ]
  },
  {
   "cell_type": "code",
   "execution_count": 72,
   "metadata": {},
   "outputs": [],
   "source": [
    "df.columns = ['patientID', 'appointmentID', 'gender', 'scheduled_day',\n",
    "       'appointment_day', 'age', 'neighborhood', 'scholarship', 'hypertension',\n",
    "       'diabetes', 'alcoholism', 'disability', 'text_message', 'no_show']"
   ]
  },
  {
   "cell_type": "markdown",
   "metadata": {},
   "source": [
    "We also see that categorical and date-time variables are encoded as strings. We will modify this now to make sure that analysis can be performed on those variables later on. "
   ]
  },
  {
   "cell_type": "code",
   "execution_count": 73,
   "metadata": {},
   "outputs": [],
   "source": [
    "df['appointment_day'] = pd.to_datetime(df['appointment_day'])\n",
    "df['scheduled_day'] = pd.to_datetime(df['scheduled_day'])\n",
    "\n",
    "\n",
    "df['scheduled_day'] = df.scheduled_day.dt.strftime(\"%Y-%m-%d\")\n",
    "df['scheduled_day'] = pd.to_datetime(df['scheduled_day'])"
   ]
  },
  {
   "cell_type": "code",
   "execution_count": 74,
   "metadata": {},
   "outputs": [
    {
     "data": {
      "text/html": [
       "<div>\n",
       "<style scoped>\n",
       "    .dataframe tbody tr th:only-of-type {\n",
       "        vertical-align: middle;\n",
       "    }\n",
       "\n",
       "    .dataframe tbody tr th {\n",
       "        vertical-align: top;\n",
       "    }\n",
       "\n",
       "    .dataframe thead th {\n",
       "        text-align: right;\n",
       "    }\n",
       "</style>\n",
       "<table border=\"1\" class=\"dataframe\">\n",
       "  <thead>\n",
       "    <tr style=\"text-align: right;\">\n",
       "      <th></th>\n",
       "      <th>patientID</th>\n",
       "      <th>appointmentID</th>\n",
       "      <th>gender</th>\n",
       "      <th>scheduled_day</th>\n",
       "      <th>appointment_day</th>\n",
       "      <th>age</th>\n",
       "      <th>neighborhood</th>\n",
       "      <th>scholarship</th>\n",
       "      <th>hypertension</th>\n",
       "      <th>diabetes</th>\n",
       "      <th>alcoholism</th>\n",
       "      <th>disability</th>\n",
       "      <th>text_message</th>\n",
       "      <th>showed_up</th>\n",
       "    </tr>\n",
       "  </thead>\n",
       "  <tbody>\n",
       "    <tr>\n",
       "      <th>0</th>\n",
       "      <td>2.987250e+13</td>\n",
       "      <td>5642903</td>\n",
       "      <td>1</td>\n",
       "      <td>2016-04-29</td>\n",
       "      <td>2016-04-29</td>\n",
       "      <td>62</td>\n",
       "      <td>JARDIM DA PENHA</td>\n",
       "      <td>0</td>\n",
       "      <td>1</td>\n",
       "      <td>0</td>\n",
       "      <td>0</td>\n",
       "      <td>0</td>\n",
       "      <td>0</td>\n",
       "      <td>1</td>\n",
       "    </tr>\n",
       "    <tr>\n",
       "      <th>1</th>\n",
       "      <td>5.589978e+14</td>\n",
       "      <td>5642503</td>\n",
       "      <td>0</td>\n",
       "      <td>2016-04-29</td>\n",
       "      <td>2016-04-29</td>\n",
       "      <td>56</td>\n",
       "      <td>JARDIM DA PENHA</td>\n",
       "      <td>0</td>\n",
       "      <td>0</td>\n",
       "      <td>0</td>\n",
       "      <td>0</td>\n",
       "      <td>0</td>\n",
       "      <td>0</td>\n",
       "      <td>1</td>\n",
       "    </tr>\n",
       "  </tbody>\n",
       "</table>\n",
       "</div>"
      ],
      "text/plain": [
       "      patientID  appointmentID  gender scheduled_day appointment_day  age  \\\n",
       "0  2.987250e+13        5642903       1    2016-04-29      2016-04-29   62   \n",
       "1  5.589978e+14        5642503       0    2016-04-29      2016-04-29   56   \n",
       "\n",
       "      neighborhood  scholarship  hypertension  diabetes  alcoholism  \\\n",
       "0  JARDIM DA PENHA            0             1         0           0   \n",
       "1  JARDIM DA PENHA            0             0         0           0   \n",
       "\n",
       "   disability  text_message  showed_up  \n",
       "0           0             0          1  \n",
       "1           0             0          1  "
      ]
     },
     "execution_count": 74,
     "metadata": {},
     "output_type": "execute_result"
    }
   ],
   "source": [
    "#We will rename the no_show column to make it clearer whether the patient showed up or not\n",
    "#We will also change this to a numerical value\n",
    "df.rename(columns = {'no_show': 'showed_up'}, inplace=True)\n",
    "#Note values are inverted as we are flipping the meaning of the column :)\n",
    "df['showed_up'].replace('No', 1, inplace=True) \n",
    "df['showed_up'].replace('Yes', 0, inplace=True) \n",
    "\n",
    "\n",
    "#Also changing gender to 0/1 as it will likely be useful in the future: 0 is M and 1 is F\n",
    "df['gender'].replace('F', 1, inplace=True)\n",
    "df['gender'].replace('M', 0, inplace=True)\n",
    "df.head(2)"
   ]
  },
  {
   "cell_type": "code",
   "execution_count": 75,
   "metadata": {},
   "outputs": [
    {
     "data": {
      "text/html": [
       "<div>\n",
       "<style scoped>\n",
       "    .dataframe tbody tr th:only-of-type {\n",
       "        vertical-align: middle;\n",
       "    }\n",
       "\n",
       "    .dataframe tbody tr th {\n",
       "        vertical-align: top;\n",
       "    }\n",
       "\n",
       "    .dataframe thead th {\n",
       "        text-align: right;\n",
       "    }\n",
       "</style>\n",
       "<table border=\"1\" class=\"dataframe\">\n",
       "  <thead>\n",
       "    <tr style=\"text-align: right;\">\n",
       "      <th></th>\n",
       "      <th>patientID</th>\n",
       "      <th>appointmentID</th>\n",
       "      <th>gender</th>\n",
       "      <th>age</th>\n",
       "      <th>scholarship</th>\n",
       "      <th>hypertension</th>\n",
       "      <th>diabetes</th>\n",
       "      <th>alcoholism</th>\n",
       "      <th>disability</th>\n",
       "      <th>text_message</th>\n",
       "      <th>showed_up</th>\n",
       "    </tr>\n",
       "  </thead>\n",
       "  <tbody>\n",
       "    <tr>\n",
       "      <th>count</th>\n",
       "      <td>1.105270e+05</td>\n",
       "      <td>1.105270e+05</td>\n",
       "      <td>110527.000000</td>\n",
       "      <td>110527.000000</td>\n",
       "      <td>110527.000000</td>\n",
       "      <td>110527.000000</td>\n",
       "      <td>110527.000000</td>\n",
       "      <td>110527.000000</td>\n",
       "      <td>110527.000000</td>\n",
       "      <td>110527.000000</td>\n",
       "      <td>110527.000000</td>\n",
       "    </tr>\n",
       "    <tr>\n",
       "      <th>mean</th>\n",
       "      <td>1.474963e+14</td>\n",
       "      <td>5.675305e+06</td>\n",
       "      <td>0.649977</td>\n",
       "      <td>37.088874</td>\n",
       "      <td>0.098266</td>\n",
       "      <td>0.197246</td>\n",
       "      <td>0.071865</td>\n",
       "      <td>0.030400</td>\n",
       "      <td>0.022248</td>\n",
       "      <td>0.321026</td>\n",
       "      <td>0.798067</td>\n",
       "    </tr>\n",
       "    <tr>\n",
       "      <th>std</th>\n",
       "      <td>2.560949e+14</td>\n",
       "      <td>7.129575e+04</td>\n",
       "      <td>0.476979</td>\n",
       "      <td>23.110205</td>\n",
       "      <td>0.297675</td>\n",
       "      <td>0.397921</td>\n",
       "      <td>0.258265</td>\n",
       "      <td>0.171686</td>\n",
       "      <td>0.161543</td>\n",
       "      <td>0.466873</td>\n",
       "      <td>0.401444</td>\n",
       "    </tr>\n",
       "    <tr>\n",
       "      <th>min</th>\n",
       "      <td>3.921784e+04</td>\n",
       "      <td>5.030230e+06</td>\n",
       "      <td>0.000000</td>\n",
       "      <td>-1.000000</td>\n",
       "      <td>0.000000</td>\n",
       "      <td>0.000000</td>\n",
       "      <td>0.000000</td>\n",
       "      <td>0.000000</td>\n",
       "      <td>0.000000</td>\n",
       "      <td>0.000000</td>\n",
       "      <td>0.000000</td>\n",
       "    </tr>\n",
       "    <tr>\n",
       "      <th>25%</th>\n",
       "      <td>4.172614e+12</td>\n",
       "      <td>5.640286e+06</td>\n",
       "      <td>0.000000</td>\n",
       "      <td>18.000000</td>\n",
       "      <td>0.000000</td>\n",
       "      <td>0.000000</td>\n",
       "      <td>0.000000</td>\n",
       "      <td>0.000000</td>\n",
       "      <td>0.000000</td>\n",
       "      <td>0.000000</td>\n",
       "      <td>1.000000</td>\n",
       "    </tr>\n",
       "    <tr>\n",
       "      <th>50%</th>\n",
       "      <td>3.173184e+13</td>\n",
       "      <td>5.680573e+06</td>\n",
       "      <td>1.000000</td>\n",
       "      <td>37.000000</td>\n",
       "      <td>0.000000</td>\n",
       "      <td>0.000000</td>\n",
       "      <td>0.000000</td>\n",
       "      <td>0.000000</td>\n",
       "      <td>0.000000</td>\n",
       "      <td>0.000000</td>\n",
       "      <td>1.000000</td>\n",
       "    </tr>\n",
       "    <tr>\n",
       "      <th>75%</th>\n",
       "      <td>9.439172e+13</td>\n",
       "      <td>5.725524e+06</td>\n",
       "      <td>1.000000</td>\n",
       "      <td>55.000000</td>\n",
       "      <td>0.000000</td>\n",
       "      <td>0.000000</td>\n",
       "      <td>0.000000</td>\n",
       "      <td>0.000000</td>\n",
       "      <td>0.000000</td>\n",
       "      <td>1.000000</td>\n",
       "      <td>1.000000</td>\n",
       "    </tr>\n",
       "    <tr>\n",
       "      <th>max</th>\n",
       "      <td>9.999816e+14</td>\n",
       "      <td>5.790484e+06</td>\n",
       "      <td>1.000000</td>\n",
       "      <td>115.000000</td>\n",
       "      <td>1.000000</td>\n",
       "      <td>1.000000</td>\n",
       "      <td>1.000000</td>\n",
       "      <td>1.000000</td>\n",
       "      <td>4.000000</td>\n",
       "      <td>1.000000</td>\n",
       "      <td>1.000000</td>\n",
       "    </tr>\n",
       "  </tbody>\n",
       "</table>\n",
       "</div>"
      ],
      "text/plain": [
       "          patientID  appointmentID         gender            age  \\\n",
       "count  1.105270e+05   1.105270e+05  110527.000000  110527.000000   \n",
       "mean   1.474963e+14   5.675305e+06       0.649977      37.088874   \n",
       "std    2.560949e+14   7.129575e+04       0.476979      23.110205   \n",
       "min    3.921784e+04   5.030230e+06       0.000000      -1.000000   \n",
       "25%    4.172614e+12   5.640286e+06       0.000000      18.000000   \n",
       "50%    3.173184e+13   5.680573e+06       1.000000      37.000000   \n",
       "75%    9.439172e+13   5.725524e+06       1.000000      55.000000   \n",
       "max    9.999816e+14   5.790484e+06       1.000000     115.000000   \n",
       "\n",
       "         scholarship   hypertension       diabetes     alcoholism  \\\n",
       "count  110527.000000  110527.000000  110527.000000  110527.000000   \n",
       "mean        0.098266       0.197246       0.071865       0.030400   \n",
       "std         0.297675       0.397921       0.258265       0.171686   \n",
       "min         0.000000       0.000000       0.000000       0.000000   \n",
       "25%         0.000000       0.000000       0.000000       0.000000   \n",
       "50%         0.000000       0.000000       0.000000       0.000000   \n",
       "75%         0.000000       0.000000       0.000000       0.000000   \n",
       "max         1.000000       1.000000       1.000000       1.000000   \n",
       "\n",
       "          disability   text_message      showed_up  \n",
       "count  110527.000000  110527.000000  110527.000000  \n",
       "mean        0.022248       0.321026       0.798067  \n",
       "std         0.161543       0.466873       0.401444  \n",
       "min         0.000000       0.000000       0.000000  \n",
       "25%         0.000000       0.000000       1.000000  \n",
       "50%         0.000000       0.000000       1.000000  \n",
       "75%         0.000000       1.000000       1.000000  \n",
       "max         4.000000       1.000000       1.000000  "
      ]
     },
     "execution_count": 75,
     "metadata": {},
     "output_type": "execute_result"
    }
   ],
   "source": [
    "#general statistics and overview of data\n",
    "df.describe()"
   ]
  },
  {
   "cell_type": "markdown",
   "metadata": {},
   "source": [
    "> in the above table, we see that ages are not clearly plausible. Age -1 would not be possible. Also there appears to be a maximum age of 115. Those are both worth exploring better. "
   ]
  },
  {
   "cell_type": "code",
   "execution_count": 76,
   "metadata": {},
   "outputs": [
    {
     "data": {
      "text/html": [
       "<div>\n",
       "<style scoped>\n",
       "    .dataframe tbody tr th:only-of-type {\n",
       "        vertical-align: middle;\n",
       "    }\n",
       "\n",
       "    .dataframe tbody tr th {\n",
       "        vertical-align: top;\n",
       "    }\n",
       "\n",
       "    .dataframe thead th {\n",
       "        text-align: right;\n",
       "    }\n",
       "</style>\n",
       "<table border=\"1\" class=\"dataframe\">\n",
       "  <thead>\n",
       "    <tr style=\"text-align: right;\">\n",
       "      <th></th>\n",
       "      <th>patientID</th>\n",
       "      <th>appointmentID</th>\n",
       "      <th>gender</th>\n",
       "      <th>scheduled_day</th>\n",
       "      <th>appointment_day</th>\n",
       "      <th>age</th>\n",
       "      <th>neighborhood</th>\n",
       "      <th>scholarship</th>\n",
       "      <th>hypertension</th>\n",
       "      <th>diabetes</th>\n",
       "      <th>alcoholism</th>\n",
       "      <th>disability</th>\n",
       "      <th>text_message</th>\n",
       "      <th>showed_up</th>\n",
       "    </tr>\n",
       "  </thead>\n",
       "  <tbody>\n",
       "    <tr>\n",
       "      <th>99832</th>\n",
       "      <td>4.659432e+14</td>\n",
       "      <td>5775010</td>\n",
       "      <td>1</td>\n",
       "      <td>2016-06-06</td>\n",
       "      <td>2016-06-06</td>\n",
       "      <td>-1</td>\n",
       "      <td>ROMÃO</td>\n",
       "      <td>0</td>\n",
       "      <td>0</td>\n",
       "      <td>0</td>\n",
       "      <td>0</td>\n",
       "      <td>0</td>\n",
       "      <td>0</td>\n",
       "      <td>1</td>\n",
       "    </tr>\n",
       "  </tbody>\n",
       "</table>\n",
       "</div>"
      ],
      "text/plain": [
       "          patientID  appointmentID  gender scheduled_day appointment_day  age  \\\n",
       "99832  4.659432e+14        5775010       1    2016-06-06      2016-06-06   -1   \n",
       "\n",
       "      neighborhood  scholarship  hypertension  diabetes  alcoholism  \\\n",
       "99832        ROMÃO            0             0         0           0   \n",
       "\n",
       "       disability  text_message  showed_up  \n",
       "99832           0             0          1  "
      ]
     },
     "execution_count": 76,
     "metadata": {},
     "output_type": "execute_result"
    }
   ],
   "source": [
    "#Look at outlier ages: age of -1\n",
    "df[df.age == -1]"
   ]
  },
  {
   "cell_type": "markdown",
   "metadata": {},
   "source": [
    "There is only one entry with age of -1, so it makes sense to remove this entry"
   ]
  },
  {
   "cell_type": "code",
   "execution_count": 77,
   "metadata": {},
   "outputs": [],
   "source": [
    "#Remove the row with the age '-1'\n",
    "df.drop(99832, inplace = True)"
   ]
  },
  {
   "cell_type": "code",
   "execution_count": 78,
   "metadata": {},
   "outputs": [
    {
     "data": {
      "text/html": [
       "<div>\n",
       "<style scoped>\n",
       "    .dataframe tbody tr th:only-of-type {\n",
       "        vertical-align: middle;\n",
       "    }\n",
       "\n",
       "    .dataframe tbody tr th {\n",
       "        vertical-align: top;\n",
       "    }\n",
       "\n",
       "    .dataframe thead th {\n",
       "        text-align: right;\n",
       "    }\n",
       "</style>\n",
       "<table border=\"1\" class=\"dataframe\">\n",
       "  <thead>\n",
       "    <tr style=\"text-align: right;\">\n",
       "      <th></th>\n",
       "      <th>patientID</th>\n",
       "      <th>appointmentID</th>\n",
       "      <th>gender</th>\n",
       "      <th>scheduled_day</th>\n",
       "      <th>appointment_day</th>\n",
       "      <th>age</th>\n",
       "      <th>neighborhood</th>\n",
       "      <th>scholarship</th>\n",
       "      <th>hypertension</th>\n",
       "      <th>diabetes</th>\n",
       "      <th>alcoholism</th>\n",
       "      <th>disability</th>\n",
       "      <th>text_message</th>\n",
       "      <th>showed_up</th>\n",
       "    </tr>\n",
       "  </thead>\n",
       "  <tbody>\n",
       "    <tr>\n",
       "      <th>63912</th>\n",
       "      <td>3.196321e+13</td>\n",
       "      <td>5700278</td>\n",
       "      <td>1</td>\n",
       "      <td>2016-05-16</td>\n",
       "      <td>2016-05-19</td>\n",
       "      <td>115</td>\n",
       "      <td>ANDORINHAS</td>\n",
       "      <td>0</td>\n",
       "      <td>0</td>\n",
       "      <td>0</td>\n",
       "      <td>0</td>\n",
       "      <td>1</td>\n",
       "      <td>0</td>\n",
       "      <td>0</td>\n",
       "    </tr>\n",
       "    <tr>\n",
       "      <th>63915</th>\n",
       "      <td>3.196321e+13</td>\n",
       "      <td>5700279</td>\n",
       "      <td>1</td>\n",
       "      <td>2016-05-16</td>\n",
       "      <td>2016-05-19</td>\n",
       "      <td>115</td>\n",
       "      <td>ANDORINHAS</td>\n",
       "      <td>0</td>\n",
       "      <td>0</td>\n",
       "      <td>0</td>\n",
       "      <td>0</td>\n",
       "      <td>1</td>\n",
       "      <td>0</td>\n",
       "      <td>0</td>\n",
       "    </tr>\n",
       "    <tr>\n",
       "      <th>68127</th>\n",
       "      <td>3.196321e+13</td>\n",
       "      <td>5562812</td>\n",
       "      <td>1</td>\n",
       "      <td>2016-04-08</td>\n",
       "      <td>2016-05-16</td>\n",
       "      <td>115</td>\n",
       "      <td>ANDORINHAS</td>\n",
       "      <td>0</td>\n",
       "      <td>0</td>\n",
       "      <td>0</td>\n",
       "      <td>0</td>\n",
       "      <td>1</td>\n",
       "      <td>0</td>\n",
       "      <td>0</td>\n",
       "    </tr>\n",
       "    <tr>\n",
       "      <th>76284</th>\n",
       "      <td>3.196321e+13</td>\n",
       "      <td>5744037</td>\n",
       "      <td>1</td>\n",
       "      <td>2016-05-30</td>\n",
       "      <td>2016-05-30</td>\n",
       "      <td>115</td>\n",
       "      <td>ANDORINHAS</td>\n",
       "      <td>0</td>\n",
       "      <td>0</td>\n",
       "      <td>0</td>\n",
       "      <td>0</td>\n",
       "      <td>1</td>\n",
       "      <td>0</td>\n",
       "      <td>1</td>\n",
       "    </tr>\n",
       "    <tr>\n",
       "      <th>97666</th>\n",
       "      <td>7.482346e+14</td>\n",
       "      <td>5717451</td>\n",
       "      <td>1</td>\n",
       "      <td>2016-05-19</td>\n",
       "      <td>2016-06-03</td>\n",
       "      <td>115</td>\n",
       "      <td>SÃO JOSÉ</td>\n",
       "      <td>0</td>\n",
       "      <td>1</td>\n",
       "      <td>0</td>\n",
       "      <td>0</td>\n",
       "      <td>0</td>\n",
       "      <td>1</td>\n",
       "      <td>1</td>\n",
       "    </tr>\n",
       "  </tbody>\n",
       "</table>\n",
       "</div>"
      ],
      "text/plain": [
       "          patientID  appointmentID  gender scheduled_day appointment_day  age  \\\n",
       "63912  3.196321e+13        5700278       1    2016-05-16      2016-05-19  115   \n",
       "63915  3.196321e+13        5700279       1    2016-05-16      2016-05-19  115   \n",
       "68127  3.196321e+13        5562812       1    2016-04-08      2016-05-16  115   \n",
       "76284  3.196321e+13        5744037       1    2016-05-30      2016-05-30  115   \n",
       "97666  7.482346e+14        5717451       1    2016-05-19      2016-06-03  115   \n",
       "\n",
       "      neighborhood  scholarship  hypertension  diabetes  alcoholism  \\\n",
       "63912   ANDORINHAS            0             0         0           0   \n",
       "63915   ANDORINHAS            0             0         0           0   \n",
       "68127   ANDORINHAS            0             0         0           0   \n",
       "76284   ANDORINHAS            0             0         0           0   \n",
       "97666     SÃO JOSÉ            0             1         0           0   \n",
       "\n",
       "       disability  text_message  showed_up  \n",
       "63912           1             0          0  \n",
       "63915           1             0          0  \n",
       "68127           1             0          0  \n",
       "76284           1             0          1  \n",
       "97666           0             1          1  "
      ]
     },
     "execution_count": 78,
     "metadata": {},
     "output_type": "execute_result"
    }
   ],
   "source": [
    "#Look at outlier ages: age of 115\n",
    "df[df.age == 115]"
   ]
  },
  {
   "cell_type": "markdown",
   "metadata": {},
   "source": [
    "Looking at this part of the dataframe, we notice two points: \n",
    "1. There are few extreme ages: by definition, these are 'super-centenerians', as they have lived to or passed their 110th birthday. While these could be valid entries, looking over the internet [link (https://en.wikipedia.org/wiki/List_of_supercentenarians_by_continent#South_American_supercentenarians)], there are not that many supercentenarians in South America, especially Brazil, who have lived to 114 or 115. Based on this, and the fact that these are just 5 entries, I decided to remove them from the dataframe. \n",
    "2. In addition, we can notice the same person (3.196321e+13) has made multiple appointments and only attended one. This person appears to have two appointments on the same day (2016-05-19). These appointments have different appointment IDs. This duplicate was not captured earlier given that the appointmentID column entry is different. While you could have multiple appointments in a day, it would make sense that people that show up on an appointment that day would also show up to the other one, since it is in the same area. It is worth to explore this issue of multiple appointments with same ID further, after cleaning up the data of extreme values in age. "
   ]
  },
  {
   "cell_type": "code",
   "execution_count": 79,
   "metadata": {},
   "outputs": [],
   "source": [
    "#Dropping extreme ages\n",
    "extreme_age = df[df.age == 115].index\n",
    "df.drop(extreme_age, inplace=True)"
   ]
  },
  {
   "cell_type": "code",
   "execution_count": 80,
   "metadata": {},
   "outputs": [
    {
     "data": {
      "text/html": [
       "<div>\n",
       "<style scoped>\n",
       "    .dataframe tbody tr th:only-of-type {\n",
       "        vertical-align: middle;\n",
       "    }\n",
       "\n",
       "    .dataframe tbody tr th {\n",
       "        vertical-align: top;\n",
       "    }\n",
       "\n",
       "    .dataframe thead th {\n",
       "        text-align: right;\n",
       "    }\n",
       "</style>\n",
       "<table border=\"1\" class=\"dataframe\">\n",
       "  <thead>\n",
       "    <tr style=\"text-align: right;\">\n",
       "      <th></th>\n",
       "      <th>patientID</th>\n",
       "      <th>appointmentID</th>\n",
       "      <th>gender</th>\n",
       "      <th>scheduled_day</th>\n",
       "      <th>appointment_day</th>\n",
       "      <th>age</th>\n",
       "      <th>neighborhood</th>\n",
       "      <th>scholarship</th>\n",
       "      <th>hypertension</th>\n",
       "      <th>diabetes</th>\n",
       "      <th>alcoholism</th>\n",
       "      <th>disability</th>\n",
       "      <th>text_message</th>\n",
       "      <th>showed_up</th>\n",
       "    </tr>\n",
       "  </thead>\n",
       "  <tbody>\n",
       "  </tbody>\n",
       "</table>\n",
       "</div>"
      ],
      "text/plain": [
       "Empty DataFrame\n",
       "Columns: [patientID, appointmentID, gender, scheduled_day, appointment_day, age, neighborhood, scholarship, hypertension, diabetes, alcoholism, disability, text_message, showed_up]\n",
       "Index: []"
      ]
     },
     "execution_count": 80,
     "metadata": {},
     "output_type": "execute_result"
    }
   ],
   "source": [
    "#At first glance, no duplicates exist in the data\n",
    "df[df.duplicated()]"
   ]
  },
  {
   "cell_type": "code",
   "execution_count": 81,
   "metadata": {},
   "outputs": [],
   "source": [
    "#We will drop the appointmentID column as it can cause potential duplicates to be missed. \n",
    "df.drop('appointmentID', axis = 1, inplace =True)"
   ]
  },
  {
   "cell_type": "code",
   "execution_count": 82,
   "metadata": {},
   "outputs": [
    {
     "data": {
      "text/plain": [
       "patientID          4221\n",
       "gender             4221\n",
       "scheduled_day      4221\n",
       "appointment_day    4221\n",
       "age                4221\n",
       "neighborhood       4221\n",
       "scholarship        4221\n",
       "hypertension       4221\n",
       "diabetes           4221\n",
       "alcoholism         4221\n",
       "disability         4221\n",
       "text_message       4221\n",
       "showed_up          4221\n",
       "dtype: int64"
      ]
     },
     "execution_count": 82,
     "metadata": {},
     "output_type": "execute_result"
    }
   ],
   "source": [
    "#We will now see how many duplicated there are in the dataset\n",
    "df[df.duplicated()].count()"
   ]
  },
  {
   "cell_type": "markdown",
   "metadata": {},
   "source": [
    "> Not considering different appointment IDs, you can see that there are now several duplicates in this dataframe.\n",
    "While the actual time on the appointment day is not specified and the patient could have had multiple appointments on the same day, those would be at the same place (given equality of the other columns). Since patient is / is not already there for each of these appointments (as they are indeed identical), it would appear redundant to include these patients for subsequent analysis, so we will drop them. "
   ]
  },
  {
   "cell_type": "code",
   "execution_count": 83,
   "metadata": {},
   "outputs": [],
   "source": [
    "df.drop(df[df.duplicated()].index, inplace=True)"
   ]
  },
  {
   "cell_type": "markdown",
   "metadata": {},
   "source": [
    "In later parts of the analysis, we will be interested in wait times, i.e. amount of time patient has to wait from when they call to make an appointment to when they actually have the appointment (`appointment_day - scheduled_day`). "
   ]
  },
  {
   "cell_type": "code",
   "execution_count": 84,
   "metadata": {},
   "outputs": [],
   "source": [
    "df['wait_times'] = df.appointment_day - df.scheduled_day\n",
    "df['wait_times'] = df['wait_times'].dt.days #changing format to days from datetimedelta"
   ]
  },
  {
   "cell_type": "code",
   "execution_count": 85,
   "metadata": {},
   "outputs": [
    {
     "data": {
      "text/html": [
       "<div>\n",
       "<style scoped>\n",
       "    .dataframe tbody tr th:only-of-type {\n",
       "        vertical-align: middle;\n",
       "    }\n",
       "\n",
       "    .dataframe tbody tr th {\n",
       "        vertical-align: top;\n",
       "    }\n",
       "\n",
       "    .dataframe thead th {\n",
       "        text-align: right;\n",
       "    }\n",
       "</style>\n",
       "<table border=\"1\" class=\"dataframe\">\n",
       "  <thead>\n",
       "    <tr style=\"text-align: right;\">\n",
       "      <th></th>\n",
       "      <th>patientID</th>\n",
       "      <th>gender</th>\n",
       "      <th>age</th>\n",
       "      <th>scholarship</th>\n",
       "      <th>hypertension</th>\n",
       "      <th>diabetes</th>\n",
       "      <th>alcoholism</th>\n",
       "      <th>disability</th>\n",
       "      <th>text_message</th>\n",
       "      <th>showed_up</th>\n",
       "      <th>wait_times</th>\n",
       "    </tr>\n",
       "  </thead>\n",
       "  <tbody>\n",
       "    <tr>\n",
       "      <th>count</th>\n",
       "      <td>1.063000e+05</td>\n",
       "      <td>106300.000000</td>\n",
       "      <td>106300.000000</td>\n",
       "      <td>106300.000000</td>\n",
       "      <td>106300.000000</td>\n",
       "      <td>106300.000000</td>\n",
       "      <td>106300.000000</td>\n",
       "      <td>106300.000000</td>\n",
       "      <td>106300.000000</td>\n",
       "      <td>106300.000000</td>\n",
       "      <td>106300.000000</td>\n",
       "    </tr>\n",
       "    <tr>\n",
       "      <th>mean</th>\n",
       "      <td>1.467598e+14</td>\n",
       "      <td>0.654591</td>\n",
       "      <td>37.113556</td>\n",
       "      <td>0.098071</td>\n",
       "      <td>0.198946</td>\n",
       "      <td>0.072747</td>\n",
       "      <td>0.027987</td>\n",
       "      <td>0.021863</td>\n",
       "      <td>0.333706</td>\n",
       "      <td>0.795974</td>\n",
       "      <td>10.408617</td>\n",
       "    </tr>\n",
       "    <tr>\n",
       "      <th>std</th>\n",
       "      <td>2.551478e+14</td>\n",
       "      <td>0.475504</td>\n",
       "      <td>23.168804</td>\n",
       "      <td>0.297413</td>\n",
       "      <td>0.399209</td>\n",
       "      <td>0.259722</td>\n",
       "      <td>0.164936</td>\n",
       "      <td>0.160233</td>\n",
       "      <td>0.471539</td>\n",
       "      <td>0.402990</td>\n",
       "      <td>15.369464</td>\n",
       "    </tr>\n",
       "    <tr>\n",
       "      <th>min</th>\n",
       "      <td>3.921784e+04</td>\n",
       "      <td>0.000000</td>\n",
       "      <td>0.000000</td>\n",
       "      <td>0.000000</td>\n",
       "      <td>0.000000</td>\n",
       "      <td>0.000000</td>\n",
       "      <td>0.000000</td>\n",
       "      <td>0.000000</td>\n",
       "      <td>0.000000</td>\n",
       "      <td>0.000000</td>\n",
       "      <td>-6.000000</td>\n",
       "    </tr>\n",
       "    <tr>\n",
       "      <th>25%</th>\n",
       "      <td>4.151415e+12</td>\n",
       "      <td>0.000000</td>\n",
       "      <td>18.000000</td>\n",
       "      <td>0.000000</td>\n",
       "      <td>0.000000</td>\n",
       "      <td>0.000000</td>\n",
       "      <td>0.000000</td>\n",
       "      <td>0.000000</td>\n",
       "      <td>0.000000</td>\n",
       "      <td>1.000000</td>\n",
       "      <td>0.000000</td>\n",
       "    </tr>\n",
       "    <tr>\n",
       "      <th>50%</th>\n",
       "      <td>3.154280e+13</td>\n",
       "      <td>1.000000</td>\n",
       "      <td>37.000000</td>\n",
       "      <td>0.000000</td>\n",
       "      <td>0.000000</td>\n",
       "      <td>0.000000</td>\n",
       "      <td>0.000000</td>\n",
       "      <td>0.000000</td>\n",
       "      <td>0.000000</td>\n",
       "      <td>1.000000</td>\n",
       "      <td>4.000000</td>\n",
       "    </tr>\n",
       "    <tr>\n",
       "      <th>75%</th>\n",
       "      <td>9.433654e+13</td>\n",
       "      <td>1.000000</td>\n",
       "      <td>56.000000</td>\n",
       "      <td>0.000000</td>\n",
       "      <td>0.000000</td>\n",
       "      <td>0.000000</td>\n",
       "      <td>0.000000</td>\n",
       "      <td>0.000000</td>\n",
       "      <td>1.000000</td>\n",
       "      <td>1.000000</td>\n",
       "      <td>15.000000</td>\n",
       "    </tr>\n",
       "    <tr>\n",
       "      <th>max</th>\n",
       "      <td>9.999816e+14</td>\n",
       "      <td>1.000000</td>\n",
       "      <td>102.000000</td>\n",
       "      <td>1.000000</td>\n",
       "      <td>1.000000</td>\n",
       "      <td>1.000000</td>\n",
       "      <td>1.000000</td>\n",
       "      <td>4.000000</td>\n",
       "      <td>1.000000</td>\n",
       "      <td>1.000000</td>\n",
       "      <td>179.000000</td>\n",
       "    </tr>\n",
       "  </tbody>\n",
       "</table>\n",
       "</div>"
      ],
      "text/plain": [
       "          patientID         gender            age    scholarship  \\\n",
       "count  1.063000e+05  106300.000000  106300.000000  106300.000000   \n",
       "mean   1.467598e+14       0.654591      37.113556       0.098071   \n",
       "std    2.551478e+14       0.475504      23.168804       0.297413   \n",
       "min    3.921784e+04       0.000000       0.000000       0.000000   \n",
       "25%    4.151415e+12       0.000000      18.000000       0.000000   \n",
       "50%    3.154280e+13       1.000000      37.000000       0.000000   \n",
       "75%    9.433654e+13       1.000000      56.000000       0.000000   \n",
       "max    9.999816e+14       1.000000     102.000000       1.000000   \n",
       "\n",
       "        hypertension       diabetes     alcoholism     disability  \\\n",
       "count  106300.000000  106300.000000  106300.000000  106300.000000   \n",
       "mean        0.198946       0.072747       0.027987       0.021863   \n",
       "std         0.399209       0.259722       0.164936       0.160233   \n",
       "min         0.000000       0.000000       0.000000       0.000000   \n",
       "25%         0.000000       0.000000       0.000000       0.000000   \n",
       "50%         0.000000       0.000000       0.000000       0.000000   \n",
       "75%         0.000000       0.000000       0.000000       0.000000   \n",
       "max         1.000000       1.000000       1.000000       4.000000   \n",
       "\n",
       "        text_message      showed_up     wait_times  \n",
       "count  106300.000000  106300.000000  106300.000000  \n",
       "mean        0.333706       0.795974      10.408617  \n",
       "std         0.471539       0.402990      15.369464  \n",
       "min         0.000000       0.000000      -6.000000  \n",
       "25%         0.000000       1.000000       0.000000  \n",
       "50%         0.000000       1.000000       4.000000  \n",
       "75%         1.000000       1.000000      15.000000  \n",
       "max         1.000000       1.000000     179.000000  "
      ]
     },
     "execution_count": 85,
     "metadata": {},
     "output_type": "execute_result"
    }
   ],
   "source": [
    "df.describe()"
   ]
  },
  {
   "cell_type": "markdown",
   "metadata": {},
   "source": [
    "Note how there are negative wait times recorded: this does not make sense, as `appointment_day` should be later in time than `scheduled_day`. We will investigate this further. "
   ]
  },
  {
   "cell_type": "code",
   "execution_count": 86,
   "metadata": {},
   "outputs": [
    {
     "data": {
      "text/html": [
       "<div>\n",
       "<style scoped>\n",
       "    .dataframe tbody tr th:only-of-type {\n",
       "        vertical-align: middle;\n",
       "    }\n",
       "\n",
       "    .dataframe tbody tr th {\n",
       "        vertical-align: top;\n",
       "    }\n",
       "\n",
       "    .dataframe thead th {\n",
       "        text-align: right;\n",
       "    }\n",
       "</style>\n",
       "<table border=\"1\" class=\"dataframe\">\n",
       "  <thead>\n",
       "    <tr style=\"text-align: right;\">\n",
       "      <th></th>\n",
       "      <th>patientID</th>\n",
       "      <th>gender</th>\n",
       "      <th>scheduled_day</th>\n",
       "      <th>appointment_day</th>\n",
       "      <th>age</th>\n",
       "      <th>neighborhood</th>\n",
       "      <th>scholarship</th>\n",
       "      <th>hypertension</th>\n",
       "      <th>diabetes</th>\n",
       "      <th>alcoholism</th>\n",
       "      <th>disability</th>\n",
       "      <th>text_message</th>\n",
       "      <th>showed_up</th>\n",
       "      <th>wait_times</th>\n",
       "    </tr>\n",
       "  </thead>\n",
       "  <tbody>\n",
       "    <tr>\n",
       "      <th>27033</th>\n",
       "      <td>7.839273e+12</td>\n",
       "      <td>0</td>\n",
       "      <td>2016-05-10</td>\n",
       "      <td>2016-05-09</td>\n",
       "      <td>38</td>\n",
       "      <td>RESISTÊNCIA</td>\n",
       "      <td>0</td>\n",
       "      <td>0</td>\n",
       "      <td>0</td>\n",
       "      <td>0</td>\n",
       "      <td>1</td>\n",
       "      <td>0</td>\n",
       "      <td>0</td>\n",
       "      <td>-1</td>\n",
       "    </tr>\n",
       "    <tr>\n",
       "      <th>55226</th>\n",
       "      <td>7.896294e+12</td>\n",
       "      <td>1</td>\n",
       "      <td>2016-05-18</td>\n",
       "      <td>2016-05-17</td>\n",
       "      <td>19</td>\n",
       "      <td>SANTO ANTÔNIO</td>\n",
       "      <td>0</td>\n",
       "      <td>0</td>\n",
       "      <td>0</td>\n",
       "      <td>0</td>\n",
       "      <td>1</td>\n",
       "      <td>0</td>\n",
       "      <td>0</td>\n",
       "      <td>-1</td>\n",
       "    </tr>\n",
       "    <tr>\n",
       "      <th>64175</th>\n",
       "      <td>2.425226e+13</td>\n",
       "      <td>1</td>\n",
       "      <td>2016-05-05</td>\n",
       "      <td>2016-05-04</td>\n",
       "      <td>22</td>\n",
       "      <td>CONSOLAÇÃO</td>\n",
       "      <td>0</td>\n",
       "      <td>0</td>\n",
       "      <td>0</td>\n",
       "      <td>0</td>\n",
       "      <td>0</td>\n",
       "      <td>0</td>\n",
       "      <td>0</td>\n",
       "      <td>-1</td>\n",
       "    </tr>\n",
       "    <tr>\n",
       "      <th>71533</th>\n",
       "      <td>9.982316e+14</td>\n",
       "      <td>1</td>\n",
       "      <td>2016-05-11</td>\n",
       "      <td>2016-05-05</td>\n",
       "      <td>81</td>\n",
       "      <td>SANTO ANTÔNIO</td>\n",
       "      <td>0</td>\n",
       "      <td>0</td>\n",
       "      <td>0</td>\n",
       "      <td>0</td>\n",
       "      <td>0</td>\n",
       "      <td>0</td>\n",
       "      <td>0</td>\n",
       "      <td>-6</td>\n",
       "    </tr>\n",
       "    <tr>\n",
       "      <th>72362</th>\n",
       "      <td>3.787482e+12</td>\n",
       "      <td>0</td>\n",
       "      <td>2016-05-04</td>\n",
       "      <td>2016-05-03</td>\n",
       "      <td>7</td>\n",
       "      <td>TABUAZEIRO</td>\n",
       "      <td>0</td>\n",
       "      <td>0</td>\n",
       "      <td>0</td>\n",
       "      <td>0</td>\n",
       "      <td>0</td>\n",
       "      <td>0</td>\n",
       "      <td>0</td>\n",
       "      <td>-1</td>\n",
       "    </tr>\n",
       "  </tbody>\n",
       "</table>\n",
       "</div>"
      ],
      "text/plain": [
       "          patientID  gender scheduled_day appointment_day  age   neighborhood  \\\n",
       "27033  7.839273e+12       0    2016-05-10      2016-05-09   38    RESISTÊNCIA   \n",
       "55226  7.896294e+12       1    2016-05-18      2016-05-17   19  SANTO ANTÔNIO   \n",
       "64175  2.425226e+13       1    2016-05-05      2016-05-04   22     CONSOLAÇÃO   \n",
       "71533  9.982316e+14       1    2016-05-11      2016-05-05   81  SANTO ANTÔNIO   \n",
       "72362  3.787482e+12       0    2016-05-04      2016-05-03    7     TABUAZEIRO   \n",
       "\n",
       "       scholarship  hypertension  diabetes  alcoholism  disability  \\\n",
       "27033            0             0         0           0           1   \n",
       "55226            0             0         0           0           1   \n",
       "64175            0             0         0           0           0   \n",
       "71533            0             0         0           0           0   \n",
       "72362            0             0         0           0           0   \n",
       "\n",
       "       text_message  showed_up  wait_times  \n",
       "27033             0          0          -1  \n",
       "55226             0          0          -1  \n",
       "64175             0          0          -1  \n",
       "71533             0          0          -6  \n",
       "72362             0          0          -1  "
      ]
     },
     "execution_count": 86,
     "metadata": {},
     "output_type": "execute_result"
    }
   ],
   "source": [
    "df[df.wait_times < 0]"
   ]
  },
  {
   "cell_type": "code",
   "execution_count": 87,
   "metadata": {},
   "outputs": [],
   "source": [
    "#Only 6 values have negative wait times. We can safely remove those as well\n",
    "df.drop(df[df.wait_times < 0].index, inplace=True)"
   ]
  },
  {
   "cell_type": "code",
   "execution_count": 88,
   "metadata": {},
   "outputs": [],
   "source": [
    "#Dropping date appointment was made, as we will not be using that any more\n",
    "df.drop('scheduled_day', axis = 1, inplace =True)"
   ]
  },
  {
   "cell_type": "markdown",
   "metadata": {},
   "source": [
    "> Looking at the table more closely, it appears that some patients are showing up multiple times. This is reasonable as There are about 44,000 duplicates in the patientID columns. In other words, the same patients tend to make multiple appointments. Duplicate patient IDs represent about 41% of the datasets. Therefore, almost half of the entries are from a similar group of patients.\n",
    "This could have an influence on the conclusions we draw, so we need to see that it does not sway the proportion of shows and no-shows too much. "
   ]
  },
  {
   "cell_type": "code",
   "execution_count": 89,
   "metadata": {},
   "outputs": [
    {
     "data": {
      "text/plain": [
       "43999"
      ]
     },
     "execution_count": 89,
     "metadata": {},
     "output_type": "execute_result"
    }
   ],
   "source": [
    "df.patientID[df.patientID.duplicated()].count()"
   ]
  },
  {
   "cell_type": "code",
   "execution_count": 90,
   "metadata": {},
   "outputs": [
    {
     "data": {
      "text/plain": [
       "0.41393292252692976"
      ]
     },
     "execution_count": 90,
     "metadata": {},
     "output_type": "execute_result"
    }
   ],
   "source": [
    "df.patientID[df.patientID.duplicated()].count() / df.shape[0]"
   ]
  },
  {
   "cell_type": "code",
   "execution_count": 91,
   "metadata": {},
   "outputs": [],
   "source": [
    "duplicated_ID = list(df.patientID[df.patientID.duplicated()])"
   ]
  },
  {
   "cell_type": "markdown",
   "metadata": {},
   "source": [
    "In the next cell, I have included some code to determine whether patients who have several appointments are significantly swaying the data one way or the other."
   ]
  },
  {
   "cell_type": "code",
   "execution_count": 92,
   "metadata": {},
   "outputs": [
    {
     "data": {
      "image/png": "[encoded data removed]",
      "text/plain": [
       "<matplotlib.figure.Figure at 0x7f7da7f33c88>"
      ]
     },
     "metadata": {},
     "output_type": "display_data"
    }
   ],
   "source": [
    "#Create separate variables for duplicates and rest of the patients (non_duplicates): \n",
    "x = df['showed_up'][df.patientID.duplicated()]\n",
    "\n",
    "# For the non duplicated data, we are excluding all the people \n",
    "# who have more than one appointment in the system\n",
    "df2 = df[~df.patientID.isin(duplicated_ID)] \n",
    "y = df2['showed_up']\n",
    "\n",
    "\n",
    "#Get the proportion of noshows and shows for duplicates and non_duplicates\n",
    "duplicate_data = {'noshow': (x[x == 0].count()/ x.count()), 'show': (x[x==1].count()/x.count())}\n",
    "nonduplicate_data = {'noshow': (y[y== 0].count()/y.count()), 'show': (y[y== 1].count()/y.count())}\n",
    "\n",
    "#Create a dataframe for each group\n",
    "duplicate_df = pd.DataFrame.from_dict(duplicate_data, orient='index')\n",
    "non_duplicate_df = pd.DataFrame.from_dict(nonduplicate_data, orient = 'index')\n",
    "                                        \n",
    "\n",
    "#Join the two dataframes together \n",
    "dup_nodup_df = pd.concat([duplicate_df, non_duplicate_df])\n",
    "dup_nodup_df.reset_index(inplace=True)\n",
    "dup_nodup_df['type'] = ['duplicate', 'duplicate', 'non_duplicate', 'non_duplicate']\n",
    "dup_nodup_df.columns = ['show_status', 'proportion', 'duplicate_status']\n",
    "\n",
    "#Create a plot showing proportion for shows and noshows for duplicates and non_duplicates\n",
    "ax = sns.barplot(x=\"show_status\", y=\"proportion\", hue = 'duplicate_status', data=dup_nodup_df);"
   ]
  },
  {
   "cell_type": "markdown",
   "metadata": {},
   "source": [
    "> As shown in the bar plot above, there is not a big difference between shows and noshows between patients making manu apointments and those who only presented once. We will therefore keep these patients as they will make the sample size better. \n",
    "Moreover, we can notice here that the majority show up to their appointments, in both groups."
   ]
  },
  {
   "cell_type": "markdown",
   "metadata": {},
   "source": [
    "<a id='eda'></a>\n",
    "## Exploratory Data Analysis\n",
    "\n",
    "> **Tip**: Now that you've trimmed and cleaned your data, you're ready to move on to exploration. Compute statistics and create visualizations with the goal of addressing the research questions that you posed in the Introduction section. It is recommended that you be systematic with your approach. Look at one variable at a time, and then follow it up by looking at relationships between variables.\n",
    "\n",
    "### General descriptive statistics"
   ]
  },
  {
   "cell_type": "code",
   "execution_count": 93,
   "metadata": {},
   "outputs": [
    {
     "data": {
      "text/html": [
       "<div>\n",
       "<style scoped>\n",
       "    .dataframe tbody tr th:only-of-type {\n",
       "        vertical-align: middle;\n",
       "    }\n",
       "\n",
       "    .dataframe tbody tr th {\n",
       "        vertical-align: top;\n",
       "    }\n",
       "\n",
       "    .dataframe thead th {\n",
       "        text-align: right;\n",
       "    }\n",
       "</style>\n",
       "<table border=\"1\" class=\"dataframe\">\n",
       "  <thead>\n",
       "    <tr style=\"text-align: right;\">\n",
       "      <th></th>\n",
       "      <th>patientID</th>\n",
       "      <th>gender</th>\n",
       "      <th>age</th>\n",
       "      <th>scholarship</th>\n",
       "      <th>hypertension</th>\n",
       "      <th>diabetes</th>\n",
       "      <th>alcoholism</th>\n",
       "      <th>disability</th>\n",
       "      <th>text_message</th>\n",
       "      <th>showed_up</th>\n",
       "      <th>wait_times</th>\n",
       "    </tr>\n",
       "  </thead>\n",
       "  <tbody>\n",
       "    <tr>\n",
       "      <th>count</th>\n",
       "      <td>1.062950e+05</td>\n",
       "      <td>106295.000000</td>\n",
       "      <td>106295.000000</td>\n",
       "      <td>106295.000000</td>\n",
       "      <td>106295.000000</td>\n",
       "      <td>106295.000000</td>\n",
       "      <td>106295.000000</td>\n",
       "      <td>106295.000000</td>\n",
       "      <td>106295.000000</td>\n",
       "      <td>106295.000000</td>\n",
       "      <td>106295.000000</td>\n",
       "    </tr>\n",
       "    <tr>\n",
       "      <th>mean</th>\n",
       "      <td>1.467569e+14</td>\n",
       "      <td>0.654593</td>\n",
       "      <td>37.113731</td>\n",
       "      <td>0.098076</td>\n",
       "      <td>0.198956</td>\n",
       "      <td>0.072750</td>\n",
       "      <td>0.027988</td>\n",
       "      <td>0.021845</td>\n",
       "      <td>0.333722</td>\n",
       "      <td>0.796011</td>\n",
       "      <td>10.409201</td>\n",
       "    </tr>\n",
       "    <tr>\n",
       "      <th>std</th>\n",
       "      <td>2.551391e+14</td>\n",
       "      <td>0.475503</td>\n",
       "      <td>23.168661</td>\n",
       "      <td>0.297419</td>\n",
       "      <td>0.399217</td>\n",
       "      <td>0.259728</td>\n",
       "      <td>0.164940</td>\n",
       "      <td>0.160181</td>\n",
       "      <td>0.471544</td>\n",
       "      <td>0.402963</td>\n",
       "      <td>15.369584</td>\n",
       "    </tr>\n",
       "    <tr>\n",
       "      <th>min</th>\n",
       "      <td>3.921784e+04</td>\n",
       "      <td>0.000000</td>\n",
       "      <td>0.000000</td>\n",
       "      <td>0.000000</td>\n",
       "      <td>0.000000</td>\n",
       "      <td>0.000000</td>\n",
       "      <td>0.000000</td>\n",
       "      <td>0.000000</td>\n",
       "      <td>0.000000</td>\n",
       "      <td>0.000000</td>\n",
       "      <td>0.000000</td>\n",
       "    </tr>\n",
       "    <tr>\n",
       "      <th>25%</th>\n",
       "      <td>4.151415e+12</td>\n",
       "      <td>0.000000</td>\n",
       "      <td>18.000000</td>\n",
       "      <td>0.000000</td>\n",
       "      <td>0.000000</td>\n",
       "      <td>0.000000</td>\n",
       "      <td>0.000000</td>\n",
       "      <td>0.000000</td>\n",
       "      <td>0.000000</td>\n",
       "      <td>1.000000</td>\n",
       "      <td>0.000000</td>\n",
       "    </tr>\n",
       "    <tr>\n",
       "      <th>50%</th>\n",
       "      <td>3.154399e+13</td>\n",
       "      <td>1.000000</td>\n",
       "      <td>37.000000</td>\n",
       "      <td>0.000000</td>\n",
       "      <td>0.000000</td>\n",
       "      <td>0.000000</td>\n",
       "      <td>0.000000</td>\n",
       "      <td>0.000000</td>\n",
       "      <td>0.000000</td>\n",
       "      <td>1.000000</td>\n",
       "      <td>4.000000</td>\n",
       "    </tr>\n",
       "    <tr>\n",
       "      <th>75%</th>\n",
       "      <td>9.433654e+13</td>\n",
       "      <td>1.000000</td>\n",
       "      <td>56.000000</td>\n",
       "      <td>0.000000</td>\n",
       "      <td>0.000000</td>\n",
       "      <td>0.000000</td>\n",
       "      <td>0.000000</td>\n",
       "      <td>0.000000</td>\n",
       "      <td>1.000000</td>\n",
       "      <td>1.000000</td>\n",
       "      <td>15.000000</td>\n",
       "    </tr>\n",
       "    <tr>\n",
       "      <th>max</th>\n",
       "      <td>9.999816e+14</td>\n",
       "      <td>1.000000</td>\n",
       "      <td>102.000000</td>\n",
       "      <td>1.000000</td>\n",
       "      <td>1.000000</td>\n",
       "      <td>1.000000</td>\n",
       "      <td>1.000000</td>\n",
       "      <td>4.000000</td>\n",
       "      <td>1.000000</td>\n",
       "      <td>1.000000</td>\n",
       "      <td>179.000000</td>\n",
       "    </tr>\n",
       "  </tbody>\n",
       "</table>\n",
       "</div>"
      ],
      "text/plain": [
       "          patientID         gender            age    scholarship  \\\n",
       "count  1.062950e+05  106295.000000  106295.000000  106295.000000   \n",
       "mean   1.467569e+14       0.654593      37.113731       0.098076   \n",
       "std    2.551391e+14       0.475503      23.168661       0.297419   \n",
       "min    3.921784e+04       0.000000       0.000000       0.000000   \n",
       "25%    4.151415e+12       0.000000      18.000000       0.000000   \n",
       "50%    3.154399e+13       1.000000      37.000000       0.000000   \n",
       "75%    9.433654e+13       1.000000      56.000000       0.000000   \n",
       "max    9.999816e+14       1.000000     102.000000       1.000000   \n",
       "\n",
       "        hypertension       diabetes     alcoholism     disability  \\\n",
       "count  106295.000000  106295.000000  106295.000000  106295.000000   \n",
       "mean        0.198956       0.072750       0.027988       0.021845   \n",
       "std         0.399217       0.259728       0.164940       0.160181   \n",
       "min         0.000000       0.000000       0.000000       0.000000   \n",
       "25%         0.000000       0.000000       0.000000       0.000000   \n",
       "50%         0.000000       0.000000       0.000000       0.000000   \n",
       "75%         0.000000       0.000000       0.000000       0.000000   \n",
       "max         1.000000       1.000000       1.000000       4.000000   \n",
       "\n",
       "        text_message      showed_up     wait_times  \n",
       "count  106295.000000  106295.000000  106295.000000  \n",
       "mean        0.333722       0.796011      10.409201  \n",
       "std         0.471544       0.402963      15.369584  \n",
       "min         0.000000       0.000000       0.000000  \n",
       "25%         0.000000       1.000000       0.000000  \n",
       "50%         0.000000       1.000000       4.000000  \n",
       "75%         1.000000       1.000000      15.000000  \n",
       "max         1.000000       1.000000     179.000000  "
      ]
     },
     "execution_count": 93,
     "metadata": {},
     "output_type": "execute_result"
    }
   ],
   "source": [
    "df.describe()"
   ]
  },
  {
   "cell_type": "code",
   "execution_count": 110,
   "metadata": {},
   "outputs": [
    {
     "data": {
      "image/png": "[encoded data removed]",
      "text/plain": [
       "<matplotlib.figure.Figure at 0x7f7da451a390>"
      ]
     },
     "metadata": {},
     "output_type": "display_data"
    }
   ],
   "source": [
    "col = ['gender', 'scholarship', 'hypertension', 'alcoholism', 'diabetes','disability', 'text_message', 'showed_up']\n",
    "df.hist(column=col, figsize = (10, 10), sharey = True);"
   ]
  },
  {
   "cell_type": "markdown",
   "metadata": {},
   "source": [
    "Looking over the data, we see the majority of patients are female, and the majority showed up to the appointment. Most of the people do not have any disease or disability. \n",
    "\n",
    "However, there is about a quarter of this sample who has hypertension and about 10% has diabetes. The majority of people did not receive a reminder text message. \n",
    "\n",
    "We see that younger population is more abundant in this dataset, with a high number of infants and a good amount of young adults. Beyond the age of 60, the population starts to get more and more scant, with only a small amount of centenarians.  We also notice that the population is not normally distributed."
   ]
  },
  {
   "cell_type": "code",
   "execution_count": 111,
   "metadata": {},
   "outputs": [
    {
     "data": {
      "image/png": "[encoded data removed]",
      "text/plain": [
       "<matplotlib.figure.Figure at 0x7f7da3d03860>"
      ]
     },
     "metadata": {},
     "output_type": "display_data"
    }
   ],
   "source": [
    "#fig = plt.figure()\n",
    "ax = sns.distplot(df.age, bins =20);\n",
    "plt.title('Distribution of Age');"
   ]
  },
  {
   "cell_type": "code",
   "execution_count": null,
   "metadata": {},
   "outputs": [],
   "source": []
  },
  {
   "cell_type": "markdown",
   "metadata": {},
   "source": [
    "### Temporal trends\n",
    "#### Is the rate of showing up to appointments higher during a day of the week?\n",
    "Knowing whether there is a difference in number of noshows for a day of the week may have importance in that it could help direct future scheduling efforts, by opening up more availabilities when people are more likely to show up and by reducing efforts when people do not show up. "
   ]
  },
  {
   "cell_type": "code",
   "execution_count": 112,
   "metadata": {},
   "outputs": [
    {
     "data": {
      "text/html": [
       "<div>\n",
       "<style scoped>\n",
       "    .dataframe tbody tr th:only-of-type {\n",
       "        vertical-align: middle;\n",
       "    }\n",
       "\n",
       "    .dataframe tbody tr th {\n",
       "        vertical-align: top;\n",
       "    }\n",
       "\n",
       "    .dataframe thead th {\n",
       "        text-align: right;\n",
       "    }\n",
       "</style>\n",
       "<table border=\"1\" class=\"dataframe\">\n",
       "  <thead>\n",
       "    <tr style=\"text-align: right;\">\n",
       "      <th></th>\n",
       "      <th>weekday</th>\n",
       "      <th>showed_up</th>\n",
       "    </tr>\n",
       "  </thead>\n",
       "  <tbody>\n",
       "    <tr>\n",
       "      <th>1</th>\n",
       "      <td>Monday</td>\n",
       "      <td>0.789944</td>\n",
       "    </tr>\n",
       "    <tr>\n",
       "      <th>4</th>\n",
       "      <td>Tuesday</td>\n",
       "      <td>0.797660</td>\n",
       "    </tr>\n",
       "    <tr>\n",
       "      <th>5</th>\n",
       "      <td>Wednesday</td>\n",
       "      <td>0.801064</td>\n",
       "    </tr>\n",
       "    <tr>\n",
       "      <th>3</th>\n",
       "      <td>Thursday</td>\n",
       "      <td>0.804490</td>\n",
       "    </tr>\n",
       "    <tr>\n",
       "      <th>0</th>\n",
       "      <td>Friday</td>\n",
       "      <td>0.786335</td>\n",
       "    </tr>\n",
       "    <tr>\n",
       "      <th>2</th>\n",
       "      <td>Saturday</td>\n",
       "      <td>0.769231</td>\n",
       "    </tr>\n",
       "  </tbody>\n",
       "</table>\n",
       "</div>"
      ],
      "text/plain": [
       "     weekday  showed_up\n",
       "1     Monday   0.789944\n",
       "4    Tuesday   0.797660\n",
       "5  Wednesday   0.801064\n",
       "3   Thursday   0.804490\n",
       "0     Friday   0.786335\n",
       "2   Saturday   0.769231"
      ]
     },
     "execution_count": 112,
     "metadata": {},
     "output_type": "execute_result"
    }
   ],
   "source": [
    "df['weekday'] = df.appointment_day.dt.strftime('%A')\n",
    "by_date = df.groupby('weekday')['showed_up'].mean()\n",
    "by_date = pd.DataFrame(by_date)\n",
    "by_date.reset_index(inplace=True)\n",
    "#Sorting values based on day of the week\n",
    "by_date['weekday'] = pd.Categorical(by_date['weekday'], \n",
    "                                    categories= ['Monday', 'Tuesday', 'Wednesday', 'Thursday', 'Friday', 'Saturday'], \n",
    "                                    ordered = True)\n",
    "                                    \n",
    "by_date.sort_values(by='weekday', inplace = True)\n",
    "by_date"
   ]
  },
  {
   "cell_type": "markdown",
   "metadata": {},
   "source": [
    "We can see that there is a bit less people showing up on Saturdays. The majority of people show up on Wednesdays. \n",
    "We are also interested to know if any relationship exists between wait times and proportion of attendance. "
   ]
  },
  {
   "cell_type": "code",
   "execution_count": 113,
   "metadata": {},
   "outputs": [
    {
     "ename": "TypeError",
     "evalue": "'str' object is not callable",
     "output_type": "error",
     "traceback": [
      "\u001b[0;31m---------------------------------------------------------------------------\u001b[0m",
      "\u001b[0;31mTypeError\u001b[0m                                 Traceback (most recent call last)",
      "\u001b[0;32m<ipython-input-113-5a13ba7a778b>\u001b[0m in \u001b[0;36m<module>\u001b[0;34m()\u001b[0m\n\u001b[1;32m      3\u001b[0m \u001b[0;34m\u001b[0m\u001b[0m\n\u001b[1;32m      4\u001b[0m \u001b[0mplt\u001b[0m\u001b[0;34m.\u001b[0m\u001b[0mscatter\u001b[0m\u001b[0;34m(\u001b[0m\u001b[0mwait\u001b[0m\u001b[0;34m.\u001b[0m\u001b[0mindex\u001b[0m\u001b[0;34m,\u001b[0m \u001b[0mwait\u001b[0m\u001b[0;34m)\u001b[0m\u001b[0;34m\u001b[0m\u001b[0m\n\u001b[0;32m----> 5\u001b[0;31m \u001b[0mplt\u001b[0m\u001b[0;34m.\u001b[0m\u001b[0mxlabel\u001b[0m\u001b[0;34m(\u001b[0m\u001b[0;34m'Wait time in days'\u001b[0m\u001b[0;34m)\u001b[0m\u001b[0;34m\u001b[0m\u001b[0m\n\u001b[0m",
      "\u001b[0;31mTypeError\u001b[0m: 'str' object is not callable"
     ]
    },
    {
     "data": {
      "image/png": "[encoded data removed]",
      "text/plain": [
       "<matplotlib.figure.Figure at 0x7f7da4526b70>"
      ]
     },
     "metadata": {},
     "output_type": "display_data"
    }
   ],
   "source": [
    "wait = df.groupby('wait_times')['showed_up'].mean()\n",
    "fig2 = plt.figure(figsize=(8, 5))\n",
    "\n",
    "plt.scatter(wait.index, wait)\n",
    "plt.xlabel('Wait time in days')\n",
    "plt.ylabel('Proportion of Attendance');"
   ]
  },
  {
   "cell_type": "markdown",
   "metadata": {},
   "source": [
    "Overall we see the data is quite sparse but more consistently, people show up when appointments are made within 75 days, whereas beyong that point, there is quite a lot of variability with the proportion of those that don't show up increasing. "
   ]
  },
  {
   "cell_type": "markdown",
   "metadata": {},
   "source": [
    "### Does the no-show rate depend on any prior medical conditions or on demographic factors? \n",
    "\n",
    "\n",
    "### Medical conditions: \n",
    "As we see below, there is not much change in rate of appointment attendance based on some of the most common diseases (diabetes, hypertension, alcoholism), albeit a small trend towards greater attendance in those with hypertension and diabetes and slightly lower attendance in those with a history of alcohol abuse. \n",
    "\n",
    "There is an important pattern in the attendance rate of those with disabilities: patients who have mild or moderate disability show up more than those with more severe levels of disability. We could speculate that this may have to do with how poor their health is or to barriers to coming (e.g. unable to get out of the house). "
   ]
  },
  {
   "cell_type": "code",
   "execution_count": null,
   "metadata": {},
   "outputs": [],
   "source": [
    "diabetes = df.groupby('diabetes')['showed_up'].mean()\n",
    "hypertension = df.groupby('hypertension')['showed_up'].mean()\n",
    "disability = df.groupby('disability')['showed_up'].mean()\n",
    "alcoholism = df.groupby('alcoholism')['showed_up'].mean()\n",
    "\n",
    "\n",
    "gender = df.groupby('gender')['showed_up'].mean()\n",
    "age = df.groupby('age')['showed_up'].mean()"
   ]
  },
  {
   "cell_type": "code",
   "execution_count": null,
   "metadata": {},
   "outputs": [],
   "source": [
    "for item in [diabetes, hypertension, alcoholism]:\n",
    "    plt.plot(item, linewidth = 5)\n",
    "plt.legend(['diabetes', 'hypertension', 'alcoholism'])\n",
    "plt.xticks([0,1], ['No', 'Yes'])\n",
    "plt.xlim(0, 1.1)\n",
    "plt.ylim(0.7, 0.95)\n",
    "plt.ylabel('Showed up (proportion)');"
   ]
  },
  {
   "cell_type": "code",
   "execution_count": null,
   "metadata": {},
   "outputs": [],
   "source": [
    "fig = plt.figure(figsize = (8,5))\n",
    "plt.plot(disability, linewidth = 5)\n",
    "plt.xticks([0,1,2,3,4], ['no', 'mild', 'moderate', 'moderate_high', 'high'])\n",
    "plt.xlabel(\"Level of disability\")\n",
    "plt.ylabel(\"Showed up (proportion)\")\n",
    "plt.title('Impact of disability on appointment attendance');"
   ]
  },
  {
   "cell_type": "markdown",
   "metadata": {},
   "source": [
    "### Demographics: \n",
    "\n",
    "we see a reduction in rate of attendance to medical appointments in the young-adult population. \n",
    "The rate of attendance increases with increasing ages, with the exception of a drop in the very elderly between aged of 90 and 100. As we saw, there is only a few centenaries in this population, and those few elderly tend to show up.  since these are outliers, I have removed them from the plot. \n",
    "\n",
    "We also see that males are more likely to show up than females. "
   ]
  },
  {
   "cell_type": "code",
   "execution_count": null,
   "metadata": {},
   "outputs": [],
   "source": [
    "plt.plot(age.loc[0: 95])\n",
    "plt.title(\"Relationship between age and proportion of shows\")\n",
    "plt.xlim(0, 96)\n",
    "plt.xlabel('age')\n",
    "plt.ylabel(\"Showed up (proportion)\");"
   ]
  },
  {
   "cell_type": "code",
   "execution_count": null,
   "metadata": {},
   "outputs": [],
   "source": [
    "plt.plot(gender, linewidth = 5)\n",
    "plt.xticks([0, 1], ['Male', 'Female'])\n",
    "plt.xlabel('Sex')\n",
    "plt.ylabel(\"Showed up (proportion)\");"
   ]
  },
  {
   "cell_type": "markdown",
   "metadata": {},
   "source": [
    "### Do geosocial factors have an impact on no shows?\n",
    "\n",
    "Scholarships are ...\n",
    "Oftentimes different neighborhoods may have different social backgrounds, different access to transportation, different economic classes. We want to see whether provenance from different neighborhoods has an impact on being able to make it to a medical appointment. "
   ]
  },
  {
   "cell_type": "code",
   "execution_count": null,
   "metadata": {},
   "outputs": [],
   "source": [
    "neighbor = df.groupby('neighborhood')['showed_up'].mean()\n",
    "neighbor.plot(kind='barh', figsize=(40,30), fontsize = 20, rot=10,\n",
    "              title= 'Proportion of patients showing up per neighborhood');"
   ]
  },
  {
   "cell_type": "code",
   "execution_count": null,
   "metadata": {},
   "outputs": [],
   "source": [
    "allshows = neighbor[neighbor == 1.0].index[0]\n",
    "noshows = neighbor[neighbor == 0.0].index[0]\n",
    "print(\"Neighborhood with 100% show up rate: {}.\\nNeighborhood with 0% showup rate: {}.\".format(allshows, noshows))\n",
    "\n",
    "print(\"Total number of appointments were {} and {}, respectively\".format(\n",
    "      df.groupby('neighborhood')['showed_up'].count()['PARQUE INDUSTRIAL'], \n",
    "      df.groupby('neighborhood')['showed_up'].count()['ILHAS OCEÂNICAS DE TRINDADE']))"
   ]
  },
  {
   "cell_type": "code",
   "execution_count": 57,
   "metadata": {},
   "outputs": [
    {
     "data": {
      "text/plain": [
       "scholarship\n",
       "0    0.799802\n",
       "1    0.761151\n",
       "Name: showed_up, dtype: float64"
      ]
     },
     "execution_count": 57,
     "metadata": {},
     "output_type": "execute_result"
    }
   ],
   "source": [
    "scholarship_mean = df.groupby('scholarship')['showed_up'].mean()\n",
    "scholarship_mean"
   ]
  },
  {
   "cell_type": "markdown",
   "metadata": {},
   "source": [
    "We see that overall there is not much difference in show-up rates across neighborhoods, with the exception of Parque Industrial, where everyone showed up and Trinidade Island, where nobody showed up. Of notice, very few appointments were made there, so that may not be representative of the true population in those neighborhoods. \n",
    "\n",
    "Having a scholarship does not impact the overall proportion of appointment attendance."
   ]
  },
  {
   "cell_type": "markdown",
   "metadata": {},
   "source": [
    "<a id='conclusions'></a>\n",
    "## Conclusions\n",
    "\n",
    "We have analyzed a dataset containing information about medical appointments made in Brazil and what relationships exist between several demographic, social, economical, and medical factors and the rate of medical appointment attendance. \n",
    "\n",
    "We see that this population is mainly composed of females, and that overall the majority of the patients attend their appointments. We see that there is a higher proportion of attendance in males and in the elderly and in those with no or mild disability. Those with hypertension or diabetes may tend to attend slightly more and those with alcoholism tend to miss slightly more appointments. \n",
    "\n",
    "There is not much difference in attendance rates between those who have social financial incentives and people generally tend to attend to their appointments regardless of the neighborhood where the hospital or clinic is located. \n",
    "\n",
    "### Limitations\n",
    " - Throughout the analysis we saw that part of the categories, such as the centenerians or the number of appointment made in certain neighborhoods are low, and therefore we cannot derive any certain conclusions from that. There is a large group of the sample that has more than one appointment, although the presence of these individuals does not appear to sway the data significantly.\n",
    " \n",
    "- About 4000 datapoints were duplicated (same patient ID, same appointment day) and had to be removed during the data cleaning process. This reduces the sample size by about 4% and could therefore impact the validity of some of the analysis. \n",
    "\n",
    "- We do not know whether this sample is representative of the whole population, especially if considering it by neighborhood: many neighborhoods only had few entries (e.g. the Island of Trinidade), and as such we cannot necessarily draw solid conclusions for each of the neighborhoods or the Brazilian population as a whole. \n",
    "\n",
    "\n",
    "- When analyzing wait times, we have sparser data for longer wait times, this can make drawing conclusions more difficult in this part of the analysis. In fact, we do not have information as to the urgency of the visit. We do not have a way to know whether same-day appointments are such just because of availability or because they were urgent. If an appointment was for urgent reasons, the patient would be most likely to show up. Similarly, we do not know therefore if the appointments that were scheduled several months ahead were intentional (e.g. a 6 month follow up) or where because of other reasons (e.g. clinic was not available).\n",
    "\n",
    "- Education levels for the population (or the caregivers in case of young children or the elderly) were not available, and this could be an important factor to keep in mind. \n",
    "\n",
    "- We may not have enough information on an important category of patients: those with great disabilities (e.g. levels 3 and 4 in this dataset). These patients typically require more medical care. However, they represent only a minority of this dataset, so we may not see their needs and their health care utilization well with this analysis. Further studies aimed at this population could be helpful in the future. "
   ]
  },
  {
   "cell_type": "code",
   "execution_count": 61,
   "metadata": {},
   "outputs": [
    {
     "data": {
      "text/plain": [
       "0"
      ]
     },
     "execution_count": 61,
     "metadata": {},
     "output_type": "execute_result"
    }
   ],
   "source": [
    "from subprocess import call\n",
    "call(['python', '-m', 'nbconvert', 'Investigate_a_Dataset.ipynb'])"
   ]
  },
  {
   "cell_type": "code",
   "execution_count": null,
   "metadata": {},
   "outputs": [],
   "source": []
  },
  {
   "cell_type": "code",
   "execution_count": null,
   "metadata": {},
   "outputs": [],
   "source": []
  }
 ],
 "metadata": {
  "kernelspec": {
   "display_name": "Python 3",
   "language": "python",
   "name": "python3"
  },
  "language_info": {
   "codemirror_mode": {
    "name": "ipython",
    "version": 3
   },
   "file_extension": ".py",
   "mimetype": "text/x-python",
   "name": "python",
   "nbconvert_exporter": "python",
   "pygments_lexer": "ipython3",
   "version": "3.6.3"
  }
 },
 "nbformat": 4,
 "nbformat_minor": 2
}
